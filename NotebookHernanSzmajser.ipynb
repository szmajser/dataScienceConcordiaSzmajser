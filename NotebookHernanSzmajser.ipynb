{
 "cells": [
  {
   "cell_type": "code",
   "execution_count": 1,
   "id": "19da50b1-e285-4815-a416-c0f68264011f",
   "metadata": {},
   "outputs": [],
   "source": [
    "import pandas as pd\n"
   ]
  },
  {
   "cell_type": "code",
   "execution_count": 2,
   "id": "e33a5d3b-8d95-4b70-9670-70390e740616",
   "metadata": {},
   "outputs": [],
   "source": [
    "# First: Load the csv file into a Pandas dataframe (df)\n",
    "\n",
    "df = pd.read_csv('results.csv')"
   ]
  },
  {
   "cell_type": "code",
   "execution_count": 3,
   "id": "ad4b2b20-0ebb-4a23-ac9f-eea729b6a749",
   "metadata": {},
   "outputs": [
    {
     "name": "stdout",
     "output_type": "stream",
     "text": [
      "<class 'pandas.core.frame.DataFrame'>\n",
      "RangeIndex: 45315 entries, 0 to 45314\n",
      "Data columns (total 9 columns):\n",
      " #   Column      Non-Null Count  Dtype \n",
      "---  ------      --------------  ----- \n",
      " 0   date        45315 non-null  object\n",
      " 1   home_team   45315 non-null  object\n",
      " 2   away_team   45315 non-null  object\n",
      " 3   home_score  45315 non-null  int64 \n",
      " 4   away_score  45315 non-null  int64 \n",
      " 5   tournament  45315 non-null  object\n",
      " 6   city        45315 non-null  object\n",
      " 7   country     45315 non-null  object\n",
      " 8   neutral     45315 non-null  bool  \n",
      "dtypes: bool(1), int64(2), object(6)\n",
      "memory usage: 2.8+ MB\n"
     ]
    }
   ],
   "source": [
    "# Explore the df\n",
    "\n",
    "df.info()"
   ]
  },
  {
   "cell_type": "code",
   "execution_count": 4,
   "id": "8fb6b117-8805-4a01-9bb4-7d23c2c20011",
   "metadata": {},
   "outputs": [
    {
     "name": "stdout",
     "output_type": "stream",
     "text": [
      " Average home team:  1.7393136930376256\n"
     ]
    }
   ],
   "source": [
    "#Q1: What is the average number of goals for the home team?\n",
    "avg_home_team_goals = df['home_score'].mean()\n",
    "print(\" Average home team: \", avg_home_team_goals)"
   ]
  },
  {
   "cell_type": "code",
   "execution_count": 6,
   "id": "1199e17f-7fa4-41dc-8bce-7642d5f84b3a",
   "metadata": {},
   "outputs": [
    {
     "name": "stdout",
     "output_type": "stream",
     "text": [
      " Average away team:  1.1782412004854905\n"
     ]
    }
   ],
   "source": [
    "#Q2: What is the average number of goals for the away team?\n",
    "avg_away_team_goals = df['away_score'].mean()\n",
    "print(\" Average away team: \", avg_away_team_goals)"
   ]
  },
  {
   "cell_type": "code",
   "execution_count": 7,
   "id": "00d77d29-17ca-43ff-be06-13159c1911db",
   "metadata": {},
   "outputs": [
    {
     "name": "stdout",
     "output_type": "stream",
     "text": [
      "The country with the highest overall home score is: Brazil\n"
     ]
    }
   ],
   "source": [
    "#Q3: What is the country with the highest overall home score?\n",
    "home_team_scores = df.groupby('home_team')['home_score'].sum()\n",
    "country = home_team_scores.idxmax()\n",
    "print(\"The country with the highest overall home score is:\", country)"
   ]
  },
  {
   "cell_type": "code",
   "execution_count": 8,
   "id": "a4c68151-4fa8-40d6-93d6-a2d593f9d047",
   "metadata": {},
   "outputs": [
    {
     "name": "stdout",
     "output_type": "stream",
     "text": [
      "top 3 type of tournaments:  tournament\n",
      "Friendly                        17773\n",
      "FIFA World Cup qualification     8016\n",
      "UEFA Euro qualification          2815\n",
      "Name: count, dtype: int64\n"
     ]
    }
   ],
   "source": [
    "#Q4: What are the top 3 type of tournaments?\n",
    "tournament_counts = df['tournament'].value_counts()\n",
    "print(\"top 3 type of tournaments: \", tournament_counts.head(3))"
   ]
  },
  {
   "cell_type": "code",
   "execution_count": 9,
   "id": "7b196459-8b34-4ff1-bb78-59a19f1dfbfe",
   "metadata": {},
   "outputs": [],
   "source": [
    "#Q5: Which country has the highest overall FIFA World Cup goals?\n",
    "# Step 5.1: Create a new dataframe that only contains rows where the \"tournament\" column == 'FIFA World Cup'\n",
    "fifa_df = df[df['tournament'] == 'FIFA World Cup']"
   ]
  },
  {
   "cell_type": "code",
   "execution_count": 10,
   "id": "08b4f20c-0ca7-40b6-b233-cfe02f874b3e",
   "metadata": {},
   "outputs": [
    {
     "name": "stderr",
     "output_type": "stream",
     "text": [
      "C:\\Users\\szmaj\\AppData\\Local\\Temp\\ipykernel_36396\\595567860.py:2: SettingWithCopyWarning: \n",
      "A value is trying to be set on a copy of a slice from a DataFrame.\n",
      "Try using .loc[row_indexer,col_indexer] = value instead\n",
      "\n",
      "See the caveats in the documentation: https://pandas.pydata.org/pandas-docs/stable/user_guide/indexing.html#returning-a-view-versus-a-copy\n",
      "  fifa_df['total_score'] = fifa_df['home_score'] + fifa_df['away_score']\n"
     ]
    }
   ],
   "source": [
    "# Step 5.2: Create a new 'total_score' column that sums 'home_score' + 'away_score' for each row\n",
    "fifa_df['total_score'] = fifa_df['home_score'] + fifa_df['away_score']"
   ]
  },
  {
   "cell_type": "code",
   "execution_count": 11,
   "id": "b7f6706b-678a-4df0-ace5-c143dfc61c89",
   "metadata": {},
   "outputs": [],
   "source": [
    "# Step 5.3: Group the data by 'country', sum the 'total_score' column, and find the country with the highest total score\n",
    "hgh_goals_country = fifa_df.groupby('country')['total_score'].sum().idxmax()"
   ]
  },
  {
   "cell_type": "code",
   "execution_count": 12,
   "id": "24a8aae1-a7fd-4581-a22c-4adc5a97de83",
   "metadata": {},
   "outputs": [
    {
     "name": "stdout",
     "output_type": "stream",
     "text": [
      "The country with the highest overall FIFA World Cup goals is: Brazil\n"
     ]
    }
   ],
   "source": [
    "# Print the result\n",
    "print(\"The country with the highest overall FIFA World Cup goals is:\", hgh_goals_country)"
   ]
  },
  {
   "cell_type": "code",
   "execution_count": null,
   "id": "c1ae3c3c-59d3-4a60-ae1c-c2230a29069e",
   "metadata": {},
   "outputs": [],
   "source": []
  }
 ],
 "metadata": {
  "kernelspec": {
   "display_name": "Python 3 (ipykernel)",
   "language": "python",
   "name": "python3"
  },
  "language_info": {
   "codemirror_mode": {
    "name": "ipython",
    "version": 3
   },
   "file_extension": ".py",
   "mimetype": "text/x-python",
   "name": "python",
   "nbconvert_exporter": "python",
   "pygments_lexer": "ipython3",
   "version": "3.12.4"
  }
 },
 "nbformat": 4,
 "nbformat_minor": 5
}
